{
 "cells": [
  {
   "cell_type": "code",
   "execution_count": 1,
   "outputs": [
    {
     "ename": "ImportError",
     "evalue": "attempted relative import with no known parent package",
     "output_type": "error",
     "traceback": [
      "\u001B[1;31m---------------------------------------------------------------------------\u001B[0m",
      "\u001B[1;31mImportError\u001B[0m                               Traceback (most recent call last)",
      "Cell \u001B[1;32mIn[1], line 4\u001B[0m\n\u001B[0;32m      1\u001B[0m \u001B[38;5;66;03m# extra imports\u001B[39;00m\n\u001B[0;32m      2\u001B[0m \u001B[38;5;28;01mfrom\u001B[39;00m \u001B[38;5;21;01msklearn\u001B[39;00m\u001B[38;5;21;01m.\u001B[39;00m\u001B[38;5;21;01mpreprocessing\u001B[39;00m \u001B[38;5;28;01mimport\u001B[39;00m StandardScaler, OneHotEncoder\n\u001B[1;32m----> 4\u001B[0m \u001B[38;5;28;01mfrom\u001B[39;00m \u001B[38;5;21;01m.\u001B[39;00m\u001B[38;5;21;01m.\u001B[39;00m\u001B[38;5;21;01mutils\u001B[39;00m\u001B[38;5;21;01m.\u001B[39;00m\u001B[38;5;21;01mhelper_functions\u001B[39;00m \u001B[38;5;28;01mimport\u001B[39;00m \u001B[38;5;241m*\u001B[39m\n",
      "\u001B[1;31mImportError\u001B[0m: attempted relative import with no known parent package"
     ]
    }
   ],
   "source": [
    "# extra imports\n",
    "from sklearn.preprocessing import StandardScaler, OneHotEncoder\n",
    "\n",
    "from utils.helper_functions import *"
   ],
   "metadata": {
    "collapsed": false
   }
  },
  {
   "cell_type": "code",
   "execution_count": null,
   "outputs": [],
   "source": [
    "# load config file\n",
    "config = load_config()"
   ],
   "metadata": {
    "collapsed": false
   }
  },
  {
   "cell_type": "code",
   "execution_count": null,
   "outputs": [],
   "source": [
    "# read in clean data\n",
    "df = pd.read_csv(os.path.join(config['path']['train'], 'df_full_clean.csv'), dtype=config['dtype_dict'],\n",
    "                 keep_default_na=False)"
   ],
   "metadata": {
    "collapsed": false
   }
  },
  {
   "cell_type": "markdown",
   "source": [
    "## Feature Engineering"
   ],
   "metadata": {
    "collapsed": false
   }
  },
  {
   "cell_type": "code",
   "execution_count": null,
   "outputs": [],
   "source": [
    "# y and y test id\n",
    "y_train = df[df['uniqueID'] == 'train']['SalePrice']\n",
    "y_test = df[df['uniqueID'] != 'train'][['uniqueID']]\n",
    "\n",
    "# set X\n",
    "X_train = df[df['uniqueID'] == 'train'][df.columns.difference(['uniqueID', 'SalePrice'])]\n",
    "X_test = df[df['uniqueID'] != 'train'][df.columns.difference(['uniqueID', 'SalePrice'])]"
   ],
   "metadata": {
    "collapsed": false
   }
  },
  {
   "cell_type": "code",
   "execution_count": null,
   "outputs": [],
   "source": [
    "# create house age\n",
    "df['HouseAge'] = df['YrSold'] - df['YearBuilt']"
   ],
   "metadata": {
    "collapsed": false
   }
  },
  {
   "cell_type": "code",
   "execution_count": null,
   "outputs": [],
   "source": [
    "# scores of informative features\n",
    "mi_scores = make_mi_scores(X_train, y_train)\n",
    "plot_mi_scores(mi_scores)"
   ],
   "metadata": {
    "collapsed": false
   }
  },
  {
   "cell_type": "code",
   "execution_count": null,
   "outputs": [],
   "source": [
    "# dropping features with 0.00 score - can lead to over fitting.\n",
    "X_train = drop_uninformative(X_train, mi_scores)\n",
    "X_test = drop_uninformative(X_test, mi_scores)"
   ],
   "metadata": {
    "collapsed": false
   }
  },
  {
   "cell_type": "code",
   "execution_count": null,
   "outputs": [],
   "source": [
    "# define which columns should be encoded vs scaled\n",
    "columns_to_scale = list(X_train.select_dtypes(include=['int64', 'float']).columns)\n",
    "columns_to_encode = list(X_train.select_dtypes(include=['category']).columns)\n",
    "\n",
    "# instantiate encoder/scaler\n",
    "scaler = StandardScaler().fit(X_train[columns_to_scale])\n",
    "ohe = OneHotEncoder(sparse=False).fit(X_train[columns_to_encode])\n",
    "\n",
    "# scale and encode separate Columns\n",
    "X_train_scaled_columns = scaler.transform(X_train[columns_to_scale])\n",
    "X_train_encoded_columns = ohe.transform(X_train[columns_to_encode])\n",
    "X_test_scaled_columns = scaler.transform(X_test[columns_to_scale])\n",
    "X_test_encoded_columns = ohe.transform(X_test[columns_to_encode])\n",
    "\n",
    "# Concatenate (Column-Bind) Processed Columns Back Together\n",
    "train_processed_data = np.concatenate([X_train_scaled_columns, X_train_encoded_columns], axis=1)\n",
    "test_processed_data = np.concatenate([X_test_scaled_columns, X_test_encoded_columns], axis=1)\n",
    "\n",
    "# Assign back to X\n",
    "col_lst = columns_to_scale + list(ohe.get_feature_names_out())\n",
    "X_train = pd.DataFrame(train_processed_data, columns=col_lst)\n",
    "X_test = pd.DataFrame(test_processed_data, columns=col_lst)"
   ],
   "metadata": {
    "collapsed": false
   }
  },
  {
   "cell_type": "code",
   "execution_count": null,
   "outputs": [],
   "source": [
    "# save train data\n",
    "X_train.to_csv(os.path.join(config['path']['train'], 'X_train.csv'), index=False)\n",
    "y_train.to_csv(os.path.join(config['path']['train'], 'y_train.csv'), index=False)\n",
    "\n",
    "# save test data\n",
    "X_test.to_csv(os.path.join(config['path']['test'], 'X_test.csv'), index=False)\n",
    "y_test.to_csv(os.path.join(config['path']['test'], 'y_test.csv'), index=False)"
   ],
   "metadata": {
    "collapsed": false
   }
  }
 ],
 "metadata": {
  "kernelspec": {
   "display_name": "Python 3",
   "language": "python",
   "name": "python3"
  },
  "language_info": {
   "codemirror_mode": {
    "name": "ipython",
    "version": 2
   },
   "file_extension": ".py",
   "mimetype": "text/x-python",
   "name": "python",
   "nbconvert_exporter": "python",
   "pygments_lexer": "ipython2",
   "version": "2.7.6"
  }
 },
 "nbformat": 4,
 "nbformat_minor": 0
}
