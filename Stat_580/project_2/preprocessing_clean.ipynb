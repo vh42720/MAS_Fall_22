{
 "cells": [
  {
   "cell_type": "code",
   "execution_count": 1,
   "metadata": {
    "collapsed": true
   },
   "outputs": [],
   "source": [
    "# standard imports\n",
    "import os\n",
    "\n",
    "# extra imports\n",
    "import numpy as np\n",
    "import pandas as pd\n",
    "\n",
    "from ..utils.helper_functions import load_config"
   ]
  },
  {
   "cell_type": "code",
   "execution_count": 2,
   "outputs": [],
   "source": [
    "# load config file\n",
    "config = load_config()"
   ],
   "metadata": {
    "collapsed": false
   }
  },
  {
   "cell_type": "markdown",
   "source": [
    "## Join Data"
   ],
   "metadata": {
    "collapsed": false
   }
  },
  {
   "cell_type": "code",
   "execution_count": 3,
   "outputs": [
    {
     "data": {
      "text/plain": "   OverallQual  BedroomAbvGr CentralAir BsmtQual  BsmtUnfSF  Fireplaces  \\\n0            7             3          Y       Gd      150.0           0   \n1            7             3          Y       Gd      434.0           1   \n2            8             3          Y       Gd     1777.0           1   \n3            8             3          Y       Ex     1234.0           0   \n4            5             3          Y       Gd      167.0           0   \n\n   YrSold HouseStyle HeatingQC GarageType  ... YearBuilt BsmtCond Foundation  \\\n0    2008     2Story        Ex     Attchd  ...      2003       TA      PConc   \n1    2008     2Story        Ex     Attchd  ...      2001       TA      PConc   \n2    2008     1Story        Ex     Attchd  ...      2002       TA      PConc   \n3    2008     1Story        Ex     Attchd  ...      2007       TA      PConc   \n4    2008     1Story        TA     Detchd  ...      1975       TA     CBlock   \n\n   Electrical  BldgType OverallCond GrLivArea neighborhood  KitchenAbvGr  \\\n0       SBrkr      1Fam           5      1710    CollegeCr           NaN   \n1       SBrkr      1Fam           5      1786    CollegeCr           NaN   \n2       SBrkr      1Fam           5      1795    CollegeCr           NaN   \n3       SBrkr      1Fam           5      1234    CollegeCr           NaN   \n4       SBrkr      1Fam           6       938    CollegeCr           NaN   \n\n  uniqueID  \n0    train  \n1    train  \n2    train  \n3    train  \n4    train  \n\n[5 rows x 37 columns]",
      "text/html": "<div>\n<style scoped>\n    .dataframe tbody tr th:only-of-type {\n        vertical-align: middle;\n    }\n\n    .dataframe tbody tr th {\n        vertical-align: top;\n    }\n\n    .dataframe thead th {\n        text-align: right;\n    }\n</style>\n<table border=\"1\" class=\"dataframe\">\n  <thead>\n    <tr style=\"text-align: right;\">\n      <th></th>\n      <th>OverallQual</th>\n      <th>BedroomAbvGr</th>\n      <th>CentralAir</th>\n      <th>BsmtQual</th>\n      <th>BsmtUnfSF</th>\n      <th>Fireplaces</th>\n      <th>YrSold</th>\n      <th>HouseStyle</th>\n      <th>HeatingQC</th>\n      <th>GarageType</th>\n      <th>...</th>\n      <th>YearBuilt</th>\n      <th>BsmtCond</th>\n      <th>Foundation</th>\n      <th>Electrical</th>\n      <th>BldgType</th>\n      <th>OverallCond</th>\n      <th>GrLivArea</th>\n      <th>neighborhood</th>\n      <th>KitchenAbvGr</th>\n      <th>uniqueID</th>\n    </tr>\n  </thead>\n  <tbody>\n    <tr>\n      <th>0</th>\n      <td>7</td>\n      <td>3</td>\n      <td>Y</td>\n      <td>Gd</td>\n      <td>150.0</td>\n      <td>0</td>\n      <td>2008</td>\n      <td>2Story</td>\n      <td>Ex</td>\n      <td>Attchd</td>\n      <td>...</td>\n      <td>2003</td>\n      <td>TA</td>\n      <td>PConc</td>\n      <td>SBrkr</td>\n      <td>1Fam</td>\n      <td>5</td>\n      <td>1710</td>\n      <td>CollegeCr</td>\n      <td>NaN</td>\n      <td>train</td>\n    </tr>\n    <tr>\n      <th>1</th>\n      <td>7</td>\n      <td>3</td>\n      <td>Y</td>\n      <td>Gd</td>\n      <td>434.0</td>\n      <td>1</td>\n      <td>2008</td>\n      <td>2Story</td>\n      <td>Ex</td>\n      <td>Attchd</td>\n      <td>...</td>\n      <td>2001</td>\n      <td>TA</td>\n      <td>PConc</td>\n      <td>SBrkr</td>\n      <td>1Fam</td>\n      <td>5</td>\n      <td>1786</td>\n      <td>CollegeCr</td>\n      <td>NaN</td>\n      <td>train</td>\n    </tr>\n    <tr>\n      <th>2</th>\n      <td>8</td>\n      <td>3</td>\n      <td>Y</td>\n      <td>Gd</td>\n      <td>1777.0</td>\n      <td>1</td>\n      <td>2008</td>\n      <td>1Story</td>\n      <td>Ex</td>\n      <td>Attchd</td>\n      <td>...</td>\n      <td>2002</td>\n      <td>TA</td>\n      <td>PConc</td>\n      <td>SBrkr</td>\n      <td>1Fam</td>\n      <td>5</td>\n      <td>1795</td>\n      <td>CollegeCr</td>\n      <td>NaN</td>\n      <td>train</td>\n    </tr>\n    <tr>\n      <th>3</th>\n      <td>8</td>\n      <td>3</td>\n      <td>Y</td>\n      <td>Ex</td>\n      <td>1234.0</td>\n      <td>0</td>\n      <td>2008</td>\n      <td>1Story</td>\n      <td>Ex</td>\n      <td>Attchd</td>\n      <td>...</td>\n      <td>2007</td>\n      <td>TA</td>\n      <td>PConc</td>\n      <td>SBrkr</td>\n      <td>1Fam</td>\n      <td>5</td>\n      <td>1234</td>\n      <td>CollegeCr</td>\n      <td>NaN</td>\n      <td>train</td>\n    </tr>\n    <tr>\n      <th>4</th>\n      <td>5</td>\n      <td>3</td>\n      <td>Y</td>\n      <td>Gd</td>\n      <td>167.0</td>\n      <td>0</td>\n      <td>2008</td>\n      <td>1Story</td>\n      <td>TA</td>\n      <td>Detchd</td>\n      <td>...</td>\n      <td>1975</td>\n      <td>TA</td>\n      <td>CBlock</td>\n      <td>SBrkr</td>\n      <td>1Fam</td>\n      <td>6</td>\n      <td>938</td>\n      <td>CollegeCr</td>\n      <td>NaN</td>\n      <td>train</td>\n    </tr>\n  </tbody>\n</table>\n<p>5 rows × 37 columns</p>\n</div>"
     },
     "execution_count": 3,
     "metadata": {},
     "output_type": "execute_result"
    }
   ],
   "source": [
    "# read in raw data\n",
    "# add neighborhood indicator and KitchenAbvGr for CollegeCr dataset\n",
    "df_college = pd.read_csv(os.path.join(config['path']['raw'], 'CollegeCr.csv'))\n",
    "df_college['neighborhood'] = 'CollegeCr'\n",
    "df_college['KitchenAbvGr'] = np.nan\n",
    "df_college['uniqueID'] = 'train'\n",
    "\n",
    "df_college_test = pd.read_csv(os.path.join(config['path']['raw'], 'CollegeCr.test.csv'))\n",
    "df_college_test['neighborhood'] = 'CollegeCr'\n",
    "df_college_test['KitchenAbvGr'] = np.nan\n",
    "\n",
    "# add neighborhood indicator and BsmtUnfSF for Edwards dataset\n",
    "df_edwards = pd.read_csv(os.path.join(config['path']['raw'], 'Edwards.csv'))\n",
    "df_edwards['neighborhood'] = 'Edwards'\n",
    "df_edwards['BsmtUnfSF'] = np.nan\n",
    "df_edwards['uniqueID'] = 'train'\n",
    "\n",
    "df_edwards_test = pd.read_csv(os.path.join(config['path']['raw'], 'Edwards.test.csv'))\n",
    "df_edwards_test['neighborhood'] = 'Edwards'\n",
    "df_edwards_test['BsmtUnfSF'] = np.nan\n",
    "\n",
    "# add neighborhood indicator for OldTown dataset\n",
    "df_oldtown = pd.read_csv(os.path.join(config['path']['raw'], 'OldTown.csv'))\n",
    "df_oldtown['neighborhood'] = 'OldTown'\n",
    "df_oldtown['uniqueID'] = 'train'\n",
    "\n",
    "df_oldtown_test = pd.read_csv(os.path.join(config['path']['raw'], 'OldTown.test.csv'))\n",
    "df_oldtown_test['neighborhood'] = 'OldTown'\n",
    "\n",
    "# full data set\n",
    "df_lst = [df_college, df_edwards, df_oldtown, df_college_test, df_edwards_test, df_oldtown_test]\n",
    "df_full = pd.concat(df_lst)\n",
    "df_full.head()"
   ],
   "metadata": {
    "collapsed": false
   }
  },
  {
   "cell_type": "code",
   "execution_count": 4,
   "outputs": [],
   "source": [
    "# remove from workspace\n",
    "del df_college, df_edwards, df_oldtown, df_college_test, df_edwards_test, df_oldtown_test\n",
    "del df_lst"
   ],
   "metadata": {
    "collapsed": false
   }
  },
  {
   "cell_type": "markdown",
   "source": [
    "## Cleaning"
   ],
   "metadata": {
    "collapsed": false
   }
  },
  {
   "cell_type": "code",
   "execution_count": 5,
   "outputs": [],
   "source": [
    "# split lot info and drop\n",
    "df_full[['LotConfig', 'LotShape', 'LotArea', 'LotFrontage']] = df_full['LotInfo'].str.split(pat=';', n=4, expand=True)\n",
    "df_full.drop(['LotInfo'], axis=1, inplace=True)\n",
    "\n",
    "# replace 'NA' in LotFrontage with correct NaN\n",
    "df_full['LotFrontage'] = df_full['LotFrontage'].replace('NA', np.nan)\n",
    "\n",
    "# split exterior info and drop\n",
    "df_full[['Exterior1st', 'ExterQual', 'ExterCond']] = df_full['Exterior'].str.split(pat=';', n=3, expand=True)\n",
    "df_full.drop(['Exterior'], axis=1, inplace=True)"
   ],
   "metadata": {
    "collapsed": false
   }
  },
  {
   "cell_type": "code",
   "execution_count": 6,
   "outputs": [
    {
     "data": {
      "text/plain": "KitchenAbvGr    146\nBsmtUnfSF        89\nSalePrice        67\nBsmtCond         44\nLotFrontage      34\nGarageType       34\nBsmtFinType1     12\nBsmtQual         12\nLotArea           0\nLotShape          0\nExterior1st       0\nLotConfig         0\nTotRmsAbvGrd      0\nneighborhood      0\nGrLivArea         0\nOverallCond       0\nBldgType          0\nElectrical        0\nFoundation        0\nExterQual         0\nYearBuilt         0\nuniqueID          0\nOverallQual       0\nWoodDeckSF        0\nSaleType          0\nCentralAir        0\nFireplaces        0\nYrSold            0\nHouseStyle        0\nHeatingQC         0\nRoofMatl          0\nPavedDrive        0\nFullBath          0\nBedroomAbvGr      0\nOpenPorchSF       0\nRoofStyle         0\nUtilities         0\nBsmtFinSF1        0\nHeating           0\nKitchenQual       0\nHalfBath          0\nExterCond         0\ndtype: int64"
     },
     "execution_count": 6,
     "metadata": {},
     "output_type": "execute_result"
    }
   ],
   "source": [
    "# detect all missing values\n",
    "df_full.isna().sum().sort_values(ascending=False)"
   ],
   "metadata": {
    "collapsed": false
   }
  },
  {
   "cell_type": "code",
   "execution_count": 7,
   "outputs": [],
   "source": [
    "# transform data type\n",
    "for k, v in config['dtype_dict'].items():\n",
    "\tdf_full[k] = df_full[k].astype(v)"
   ],
   "metadata": {
    "collapsed": false
   }
  },
  {
   "cell_type": "markdown",
   "source": [
    "## Missing Data"
   ],
   "metadata": {
    "collapsed": false
   }
  },
  {
   "cell_type": "code",
   "execution_count": 8,
   "outputs": [],
   "source": [
    "# missing number of kitchen is default to 1\n",
    "df_full['KitchenAbvGr'] = df_full['KitchenAbvGr'].fillna(1)\n",
    "\n",
    "# missing Salesprice from test file is default to 0\n",
    "df_full['SalePrice'] = df_full['SalePrice'].fillna(0)\n",
    "\n",
    "# impute BsmtUnfSF with median from neighborhood\n",
    "df_full['BsmtUnfSF'] = df_full['BsmtUnfSF'].fillna(df_full['BsmtUnfSF'].median())\n",
    "\n",
    "# missing BsmtCond is default to NA - no basement\n",
    "df_full['BsmtCond'] = df_full['BsmtCond'].cat.add_categories('NA').fillna('NA')\n",
    "\n",
    "# impute LotFrontage with median from neighborhood\n",
    "df_full['LotFrontage'] = df_full['LotFrontage'].fillna(\n",
    "\tdf_full.groupby('neighborhood')['LotFrontage'].transform('median'))\n",
    "\n",
    "# missing GarageType is default to NA - no garage\n",
    "df_full['GarageType'] = df_full['GarageType'].cat.add_categories('NA').fillna('NA')\n",
    "\n",
    "# missing BsmtQual is default to NA - no basement\n",
    "df_full['BsmtQual'] = df_full['BsmtQual'].cat.add_categories('NA').fillna('NA')\n",
    "\n",
    "# missing BsmtFinType1 is default to NA - no basement\n",
    "df_full['BsmtFinType1'] = df_full['BsmtFinType1'].cat.add_categories('NA').fillna('NA')"
   ],
   "metadata": {
    "collapsed": false
   }
  },
  {
   "cell_type": "code",
   "execution_count": 9,
   "outputs": [],
   "source": [
    "# remove duplicates\n",
    "# df_full[df_full.duplicated(keep=False)]\n",
    "df_full = df_full.drop_duplicates()\n",
    "\n",
    "# remove house with Year sold less than Year Built\n",
    "df_full = df_full[~(df_full.YrSold < df_full.YearBuilt)]"
   ],
   "metadata": {
    "collapsed": false
   }
  },
  {
   "cell_type": "markdown",
   "source": [
    "## Save data"
   ],
   "metadata": {
    "collapsed": false
   }
  },
  {
   "cell_type": "code",
   "execution_count": 10,
   "outputs": [],
   "source": [
    "# save full data set\n",
    "df_full.to_csv(os.path.join(config['path']['train'], 'df_full_clean.csv'), index=False)"
   ],
   "metadata": {
    "collapsed": false
   }
  }
 ],
 "metadata": {
  "kernelspec": {
   "display_name": "Python 3",
   "language": "python",
   "name": "python3"
  },
  "language_info": {
   "codemirror_mode": {
    "name": "ipython",
    "version": 2
   },
   "file_extension": ".py",
   "mimetype": "text/x-python",
   "name": "python",
   "nbconvert_exporter": "python",
   "pygments_lexer": "ipython2",
   "version": "2.7.6"
  }
 },
 "nbformat": 4,
 "nbformat_minor": 0
}
